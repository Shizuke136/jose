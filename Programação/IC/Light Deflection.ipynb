{
 "cells": [
  {
   "cell_type": "code",
   "execution_count": 1,
   "metadata": {
    "executionInfo": {
     "elapsed": 297,
     "status": "ok",
     "timestamp": 1654876092020,
     "user": {
      "displayName": "Jose Luiz Roman Neto",
      "userId": "10134408347231508683"
     },
     "user_tz": 180
    },
    "id": "JY9ccFhGfjN4"
   },
   "outputs": [],
   "source": [
    "from scipy import special as sy #Integrais Elípticas de Primeira Ordem\n",
    "import numpy as np\n",
    "import matplotlib.pyplot as plt"
   ]
  },
  {
   "cell_type": "markdown",
   "metadata": {
    "id": "BlD3rUCc3_T2"
   },
   "source": [
    "# Strong Field Limit\n"
   ]
  },
  {
   "cell_type": "code",
   "execution_count": 7,
   "metadata": {
    "executionInfo": {
     "elapsed": 413,
     "status": "ok",
     "timestamp": 1654877868930,
     "user": {
      "displayName": "Jose Luiz Roman Neto",
      "userId": "10134408347231508683"
     },
     "user_tz": 180
    },
    "id": "Sqe07e_aChWi"
   },
   "outputs": [],
   "source": [
    "class point_bh:\n",
    "    def __init__(self,M):\n",
    "        self.M=M\n",
    "\n",
    "#Coeficientes da métrica, usando a métrica de Schwarzschild\n",
    "\n",
    "    def A(self,r):\n",
    "        return(1.0-2.0*self.M/r)\n",
    "    def B(self,r):\n",
    "        return (self.A(r)**(-1))\n",
    "    def C(self,r):\n",
    "        return(r**2)\n",
    "\n",
    "#Calcula u a partir do Rm\n",
    "\n",
    "    def u(self,r):\n",
    "        u=np.sqrt(self.C(r)/self.A(r))\n",
    "        return(u)\n",
    "\n",
    "\n",
    "#Funções das quais dependem o ângulo de deflexão\n",
    "\n",
    "    def ss(self,r):\n",
    "        return(np.sqrt((r-2.0*self.M)*(r+6.0*self.M)))\n",
    "    def mm(self,r,s):\n",
    "        return((s-r+6.0*self.M)/2/s)\n",
    "    def phif(self,r,s):\n",
    "        return(np.arcsin(np.sqrt(2.0*s/(3.0*r-6.0*self.M+s))))\n",
    "\n",
    "#O ângulo de deflexão\n",
    "\n",
    "    def defAngle(self,r):\n",
    "        s=self.ss(r)\n",
    "        m=self.mm(r,s)\n",
    "        phi=self.phif(r,s)\n",
    "        F=sy.ellipkinc(phi, m) # Função Elíptica\n",
    "        return(-np.pi+4.0*np.sqrt(r/s)*F)"
   ]
  },
  {
   "cell_type": "markdown",
   "metadata": {
    "id": "8hQ_gBLD4FHe"
   },
   "source": [
    "# Week Field Limit"
   ]
  },
  {
   "cell_type": "code",
   "execution_count": 8,
   "metadata": {
    "executionInfo": {
     "elapsed": 5,
     "status": "ok",
     "timestamp": 1654877869954,
     "user": {
      "displayName": "Jose Luiz Roman Neto",
      "userId": "10134408347231508683"
     },
     "user_tz": 180
    },
    "id": "LWKseRvC4JEK"
   },
   "outputs": [],
   "source": [
    "class point_mass:\n",
    "    def __init__(self,M):\n",
    "        self.M=M\n",
    "\n",
    "    def defAngle(self,u):\n",
    "        return(4.0*self.M/u)"
   ]
  },
  {
   "cell_type": "markdown",
   "metadata": {
    "id": "JB6JPyIU4bEy"
   },
   "source": [
    "# Plotando gráficos e comparando resultados"
   ]
  },
  {
   "cell_type": "markdown",
   "metadata": {
    "id": "BN35exxx4ryh"
   },
   "source": [
    "Será usado $3M_{\\odot}$, e para essa mata, considerando a métrica de métrica de Schwarzschild, $R_{s} \\approx 9$km"
   ]
  },
  {
   "cell_type": "code",
   "execution_count": 9,
   "metadata": {
    "executionInfo": {
     "elapsed": 280,
     "status": "ok",
     "timestamp": 1654877874359,
     "user": {
      "displayName": "Jose Luiz Roman Neto",
      "userId": "10134408347231508683"
     },
     "user_tz": 180
    },
    "id": "5FytelyMTcp9"
   },
   "outputs": [],
   "source": [
    "bh=point_bh(3.0)\n",
    "pm=point_mass(3.0)\n",
    "\n",
    "\n",
    "r=np.linspace(3.0/2.0,10,1000)*2.0*bh.M #Cria uma listas de distâncias mínimas Rm, dada a massa do bh.\n",
    "u=bh.u(r)/2.0/bh.M #Calcula o parâmetro de impacto, dado r e M.\n",
    "\n",
    "a=bh.defAngle(r) #Chama a função do ângulo de deflexão para o Strong Field Limit\n",
    "b=pm.defAngle(u*2.0*bh.M) #Chama a função do ângulo de deflexão para Week Field Limit"
   ]
  },
  {
   "cell_type": "code",
   "execution_count": 10,
   "metadata": {
    "colab": {
     "base_uri": "https://localhost:8080/",
     "height": 502
    },
    "executionInfo": {
     "elapsed": 622,
     "status": "ok",
     "timestamp": 1654878143856,
     "user": {
      "displayName": "Jose Luiz Roman Neto",
      "userId": "10134408347231508683"
     },
     "user_tz": 180
    },
    "id": "XOTkpLncUoU3",
    "outputId": "13ebb870-d5f7-4959-f579-f59ebbe8fda8"
   },
   "outputs": [
    {
     "data": {
      "image/png": "[encoded data removed]",
      "text/plain": [
       "<Figure size 1080x576 with 1 Axes>"
      ]
     },
     "metadata": {
      "needs_background": "light"
     },
     "output_type": "display_data"
    }
   ],
   "source": [
    "fig,ax=plt.subplots(1,1,figsize=(15,8))\n",
    "ax.plot(u,a,'-',label='exact solution')\n",
    "ax.plot(u,b,\"--\",label='weak field limit',color='red')\n",
    "ax.set_xlabel(r'$u$ $[2GM/c^2]$')\n",
    "ax.set_ylabel(r'$\\hat\\alpha(u)$ [radians]')\n",
    "ax.legend()\n",
    "\n",
    "#Plotando a assíntota vertical u = (3*sqrt(3))/2\n",
    "\n",
    "x=[np.min(u),np.min(u)]\n",
    "y=[0,10]\n",
    "ax.plot(x,y,':')\n",
    "\n",
    "plt.show()"
   ]
  },
  {
   "cell_type": "code",
   "execution_count": null,
   "metadata": {},
   "outputs": [],
   "source": []
  }
 ],
 "metadata": {
  "colab": {
   "authorship_tag": "ABX9TyN58BTwtsG/6iCnF3WeKoRA",
   "collapsed_sections": [],
   "name": "Light Deflection.ipynb",
   "provenance": []
  },
  "interpreter": {
   "hash": "916dbcbb3f70747c44a77c7bcd40155683ae19c65e1c03b4aa3499c5328201f1"
  },
  "kernelspec": {
   "display_name": "Python 3 (ipykernel)",
   "language": "python",
   "name": "python3"
  },
  "language_info": {
   "codemirror_mode": {
    "name": "ipython",
    "version": 3
   },
   "file_extension": ".py",
   "mimetype": "text/x-python",
   "name": "python",
   "nbconvert_exporter": "python",
   "pygments_lexer": "ipython3",
   "version": "3.10.4"
  }
 },
 "nbformat": 4,
 "nbformat_minor": 1
}
